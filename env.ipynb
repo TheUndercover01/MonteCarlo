{
 "cells": [
  {
   "cell_type": "code",
   "execution_count": 7,
   "id": "aab62748-c96c-422c-8512-417511acfa4b",
   "metadata": {},
   "outputs": [
    {
     "name": "stderr",
     "output_type": "stream",
     "text": [
      "pybullet build time: Dec 17 2023 23:51:54\n"
     ]
    }
   ],
   "source": [
    "import pybullet as p\n",
    "import time\n",
    "import numpy as np\n",
    "import pybullet_data \n",
    "import matplotlib.pyplot as plt\n",
    "from collections import Counter\n",
    "import random\n",
    "\n"
   ]
  },
  {
   "cell_type": "code",
   "execution_count": 6,
   "id": "4d91db60-ca00-4e95-b081-51e8cd39d090",
   "metadata": {},
   "outputs": [],
   "source": [
    "class Pickup_Bot_Env():\n",
    "    def __init__(self,robot,GUI=False):\n",
    "        #init the bot and the environment\n",
    "        if GUI:\n",
    "            physicsClient = p.connect(p.GUI)\n",
    "        else:\n",
    "            physicsClient = p.connect(p.DIRECT)\n",
    "        p.setAdditionalSearchPath(pybullet_data.getDataPath())\n",
    "        planeId = p.loadURDF(\"plane.urdf\")\n",
    "        p.setGravity(0,0,-10)\n",
    "        startPos1 = [-0.19670987601116390886, -0.99812458682335825078, 0.63779767016]\n",
    "        # startPos1 = [0, 0, 0.]\n",
    "        # startPos1 = [+0.8309593293931667, -0.5869020864131286, +0.6377976701602711]\n",
    "        startOrientation1 = p.getQuaternionFromEuler([0,0,0])\n",
    "        # startOrientation1 = [0, 0, 1, 0]S\n",
    "        print(1)\n",
    "        offset = 0.275\n",
    "        ball = p.loadURDF(\"soccerball.urdf\",[offset,0,0], globalScaling=1*0.1)\n",
    "                \n",
    "        self.robot = p.loadURDF(\"./bot/robot.urdf\",startPos1, startOrientation1,useFixedBase=1)\n",
    "\n",
    "        #setting the initial values of the \n",
    "\n",
    "        self.stand_rotation = 0.\n",
    "        self.slider_pos = 0.32659999999973116\n",
    "\n",
    "        self.target = []\n",
    "        \n",
    "    def get_reward(self):\n",
    "        #get the current state and the corresponding reward function \n",
    "        #basically after the action is take you need to get the reward by assesing which state is the bot at. get the reward and send it to the main algorithm which uses it to asses the Q value \n",
    "        # this class will only be used for TD and MC. DP we need to think differently, might be slightly tricky cuz we need to mention the current policy and shit\n",
    "        get_current_state()\n",
    "        \n",
    "        ...\n",
    "    def get_current_state(self):\n",
    "        #this method will be used to get the values of the current dynamics of the link which can then be used in both get_reward and in step function\n",
    "        self.stand_rotation = p.getEulerFromQuaternion(p.getLinkState(self.robot , 0)[1])[2] #get the euler z rotation\n",
    "        self.slider_pos = p.getLinkState(self.robot , 1)[0][2 ] #get the slide alonng the z axis\n",
    "        self.gripper = p.getEulerFromQuaternion(p.getLinkState(self.robot , 2)[1])[1]\n",
    "    def step(self,action):\n",
    "        #take an action in pybullet\n",
    "        #we can take in totol 6 actions\n",
    "        ## open the gripper (1 action)\n",
    "        ## close the gripper (1 action)\n",
    "        ## move the slider up by 0.21 up or down (2 actions)\n",
    "        ## rotate the stand by pi/2 to the left or right (2 actions)\n",
    "\n",
    "        ##one major issue with these simulation is that they dont het you to the exact position i.e they will almost reach there but not exactly so we need to account for that face as well.\n",
    "        ###one way to solve is to store the error in the state and stuff and aff that error for each time that same joint is moved\n",
    "\n",
    "        #we have 24 states in total\n",
    "        #here our objective is to move and get the reward that means we need to take the action that is speciofied by the function and then use pybullet to step then we let get reward do its thing\n",
    "        get_current_state()\n",
    "        \n",
    "        if action=='move_left':\n",
    "            p.setJointMotorControlArray(self.robot, [0],p.POSITION_CONTROL, targetPositions= [self.stand_rotation-1.57079632679])\n",
    "        elif action=='move_right':\n",
    "            p.setJointMotorControlArray(self.robot, [0],p.POSITION_CONTROL, targetPositions= [self.stand_rotation + 1.57079632679])\n",
    "        elif action=='move_up':\n",
    "            p.setJointMotorControlArray(self.robot, [1],p.POSITION_CONTROL, targetPositions= [self.slider_pos-0.21])\n",
    "\n",
    "        elif action=='move_down':\n",
    "            p.setJointMotorControlArray(self.robot, [1],p.POSITION_CONTROL, targetPositions= [self.slider_pos+0.21])\n",
    "\n",
    "        elif action=='close_gripper':\n",
    "            p.setJointMotorControlArray(self.robot, [2,3],p.POSITION_CONTROL, targetPositions= [self.gripper + 0.36179938779914940783,self.gripper + 0.36179938779914940783])#even tho the limit to the gripper is 0.26 just \n",
    "                                                                                                                                               #incase to reduce the error due to friction and stuff\n",
    "        elif action=='open_gripper':\n",
    "            p.setJointMotorControlArray(self.robot, [2,3],p.POSITION_CONTROL, targetPositions= [self.gripper-0.62359877559829881566,self.gripper-0.62359877559829881566])\n",
    "        for i in range(100):\n",
    "            p.stepSimulation()\n",
    "            \n",
    "    def reset_env(self):\n",
    "        #p.discopnenct and call the class again\n",
    "        p.disconnect()\n",
    "        self.__init__(robot,GUI=False)\n",
    "        \n",
    "      "
   ]
  },
  {
   "cell_type": "code",
   "execution_count": null,
   "id": "ba2b5ede-2c07-4325-bb3e-9f956217b9bb",
   "metadata": {},
   "outputs": [],
   "source": []
  }
 ],
 "metadata": {
  "kernelspec": {
   "display_name": "Python 3 (ipykernel)",
   "language": "python",
   "name": "python3"
  },
  "language_info": {
   "codemirror_mode": {
    "name": "ipython",
    "version": 3
   },
   "file_extension": ".py",
   "mimetype": "text/x-python",
   "name": "python",
   "nbconvert_exporter": "python",
   "pygments_lexer": "ipython3",
   "version": "3.8.18"
  }
 },
 "nbformat": 4,
 "nbformat_minor": 5
}
